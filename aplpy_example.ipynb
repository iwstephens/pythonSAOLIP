{
 "cells": [
  {
   "cell_type": "code",
   "execution_count": null,
   "metadata": {},
   "outputs": [],
   "source": [
    "import aplpy\n",
    "import matplotlib.pyplot as plt\n",
    "%matplotlib inline\n",
    "\n",
    "f1 = aplpy.FITSFigure('lmc.ha.b20.fits')\n",
    "#f1.show_grayscale()\n",
    "\n",
    "f1.show_colorscale(cmap='Blues',vmin=0,vmax=2)\n",
    "f1.add_scalebar(1,\"1$^{\\circ}$ = 900 pc\",color=\"black\",corner='bottom left',lw=3)\n",
    "f1.scalebar.set_font_size(18)\n",
    "\n",
    "f1.tick_labels.set_xformat('hh:mm')\n",
    "f1.tick_labels.set_yformat('dd')\n",
    "\n",
    "f1.ticks.set_color('k')\n",
    "f1.ticks.set_linewidth(1.5)\n",
    "f1.set_axis_labels_size(16)\n",
    "f1.set_tick_labels_size(14)\n",
    "\n",
    "f1.show_colorbar()\n",
    "f1.colorbar.set_axis_label_text(\"Flux\")\n",
    "f1.colorbar.set_axis_label_font(size=20)\n",
    "f1.colorbar.set_axis_label_rotation(-90)\n",
    "f1.colorbar.set_pad(0.1)\n",
    "f1.colorbar.set_axis_label_pad(20)\n",
    "\n",
    "f1.show_grid()\n",
    "f1.set_grid_color('k')\n",
    "\n",
    "plt.show()\n",
    "plt.savefig(\"lmc_fun.png\")"
   ]
  },
  {
   "cell_type": "code",
   "execution_count": null,
   "metadata": {},
   "outputs": [],
   "source": []
  },
  {
   "cell_type": "code",
   "execution_count": null,
   "metadata": {},
   "outputs": [],
   "source": []
  }
 ],
 "metadata": {
  "anaconda-cloud": {},
  "kernelspec": {
   "display_name": "Python 3",
   "language": "python",
   "name": "python3"
  },
  "language_info": {
   "codemirror_mode": {
    "name": "ipython",
    "version": 3
   },
   "file_extension": ".py",
   "mimetype": "text/x-python",
   "name": "python",
   "nbconvert_exporter": "python",
   "pygments_lexer": "ipython3",
   "version": "3.7.2"
  }
 },
 "nbformat": 4,
 "nbformat_minor": 1
}
