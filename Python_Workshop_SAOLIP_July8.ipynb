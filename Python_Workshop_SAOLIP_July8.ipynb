{
 "cells": [
  {
   "cell_type": "markdown",
   "metadata": {},
   "source": [
    "# July 8th, Python Session, Ian Stephens\n",
    "Dealing with FITS files."
   ]
  },
  {
   "cell_type": "markdown",
   "metadata": {},
   "source": [
    "import important packages"
   ]
  },
  {
   "cell_type": "code",
   "execution_count": null,
   "metadata": {},
   "outputs": [],
   "source": [
    "from astropy.io import fits\n",
    "import numpy as np\n",
    "%matplotlib inline\n",
    "import matplotlib.pyplot as plt\n",
    "import copy"
   ]
  },
  {
   "cell_type": "markdown",
   "metadata": {
    "collapsed": true
   },
   "source": [
    "Read in a fits file. HDU stands for Header/Data Units"
   ]
  },
  {
   "cell_type": "code",
   "execution_count": null,
   "metadata": {},
   "outputs": [],
   "source": [
    "fits_filename = \"lmc.ha.b20.fits\"\n",
    "hdulist = fits.open(fits_filename)"
   ]
  },
  {
   "cell_type": "markdown",
   "metadata": {},
   "source": [
    "check information about hdulist"
   ]
  },
  {
   "cell_type": "code",
   "execution_count": null,
   "metadata": {},
   "outputs": [],
   "source": [
    "hdulist.info()"
   ]
  },
  {
   "cell_type": "markdown",
   "metadata": {
    "collapsed": true
   },
   "source": [
    "-The info indicates that the header information and data is stored at index 0. Sometimes this is not the case!\n",
    "-The Dimensions indicates that the data is a 540 by 540 matrix. Each matrix point has a numerical value.\n",
    "-Cards is the amount of lines in the header (described below)"
   ]
  },
  {
   "cell_type": "markdown",
   "metadata": {},
   "source": [
    "A typical fits file has both a \"header\" and \"data\". Some fits files will have multiple header/data combinations, which can be seen in hdulist.info(). As seen above, we only have one set of header/data, at index 0\n",
    "\n",
    "# Header\n",
    "The header describes the data. For image data, like this one, the header gives information on the angular size of the pixels, and coordinates of the reference pixel.\n",
    "\n",
    "Let's see what the header looks like. Recall, the data in hdulist is at index 0, which is seen in the square brackets below:"
   ]
  },
  {
   "cell_type": "code",
   "execution_count": null,
   "metadata": {},
   "outputs": [],
   "source": [
    "hdulist[0].header"
   ]
  },
  {
   "cell_type": "markdown",
   "metadata": {},
   "source": [
    "Alternatively, we can access the header using getdata. This can be nice since we do not have to specify the index"
   ]
  },
  {
   "cell_type": "code",
   "execution_count": null,
   "metadata": {},
   "outputs": [],
   "source": [
    "fits.getheader(fits_filename)"
   ]
  },
  {
   "cell_type": "markdown",
   "metadata": {},
   "source": [
    "This is a lot of info! Most we don't even care about. Let's store the header for easy use"
   ]
  },
  {
   "cell_type": "code",
   "execution_count": null,
   "metadata": {},
   "outputs": [],
   "source": [
    "header = hdulist[0].header"
   ]
  },
  {
   "cell_type": "markdown",
   "metadata": {},
   "source": [
    "Header keywords are accessed using the header attribute, which acts like a Python dictionary.\n",
    "Below are some ways to access header information"
   ]
  },
  {
   "cell_type": "code",
   "execution_count": null,
   "metadata": {},
   "outputs": [],
   "source": [
    "header['NAXIS1']"
   ]
  },
  {
   "cell_type": "code",
   "execution_count": null,
   "metadata": {},
   "outputs": [],
   "source": [
    "header['DATE'] #date observations were taken"
   ]
  },
  {
   "cell_type": "code",
   "execution_count": null,
   "metadata": {},
   "outputs": [],
   "source": [
    "header[13] #keyword of 14th dictionary entry (remember, indexing starts at 0)"
   ]
  },
  {
   "cell_type": "code",
   "execution_count": null,
   "metadata": {},
   "outputs": [],
   "source": [
    "header['OBJECT'] #information of what the observations are... more on this later!"
   ]
  },
  {
   "cell_type": "code",
   "execution_count": null,
   "metadata": {},
   "outputs": [],
   "source": [
    "#update existing header information\n",
    "header['OBJECT'] = 'LMC Ha MCELS Mosaic, edited by ME!'\n",
    "header['OBJECT']"
   ]
  },
  {
   "cell_type": "code",
   "execution_count": null,
   "metadata": {},
   "outputs": [],
   "source": [
    "#add more information to header\n",
    "header[\"MYCOMMENT\"]=\"I am making this image cool!\"\n",
    "header[\"MYCOMMENT\"]"
   ]
  },
  {
   "cell_type": "code",
   "execution_count": null,
   "metadata": {},
   "outputs": [],
   "source": [
    "#history and comments can be added automatically\n",
    "header.add_history(\"Updated July 8, 2019\")\n",
    "header.add_comment(\"Astronomy is cool\")"
   ]
  },
  {
   "cell_type": "code",
   "execution_count": null,
   "metadata": {
    "scrolled": false
   },
   "outputs": [],
   "source": [
    "header #reprint to see changes"
   ]
  },
  {
   "cell_type": "markdown",
   "metadata": {},
   "source": [
    "# Data\n",
    "Let's check out what's in the 540x540 matrix Again, we can access the data one of two ways:"
   ]
  },
  {
   "cell_type": "code",
   "execution_count": null,
   "metadata": {},
   "outputs": [],
   "source": [
    "hdulist[0].data"
   ]
  },
  {
   "cell_type": "code",
   "execution_count": null,
   "metadata": {},
   "outputs": [],
   "source": [
    "fits.getdata(fits_filename)"
   ]
  },
  {
   "cell_type": "markdown",
   "metadata": {},
   "source": [
    "Why are we getting a bunch of zeroes? Because the matrix is too large for this screen to display! If you really want to see all the data, you can use np.set_printoptions(threshold=np.inf), but this can take a bit to print sometimes! Let's store the data into image. Recall image is just a matrix. \n",
    "\n"
   ]
  },
  {
   "cell_type": "code",
   "execution_count": null,
   "metadata": {},
   "outputs": [],
   "source": [
    "image = hdulist[0].data"
   ]
  },
  {
   "cell_type": "code",
   "execution_count": null,
   "metadata": {},
   "outputs": [],
   "source": [
    "#If you want to see all values in matrix. This can take a minute to run since its big!\n",
    "#np.set_printoptions(threshold=np.inf)\n",
    "#image"
   ]
  },
  {
   "cell_type": "code",
   "execution_count": null,
   "metadata": {},
   "outputs": [],
   "source": [
    "image[20]"
   ]
  },
  {
   "cell_type": "code",
   "execution_count": null,
   "metadata": {},
   "outputs": [],
   "source": [
    "image[20][100]"
   ]
  },
  {
   "cell_type": "markdown",
   "metadata": {},
   "source": [
    "# Warning\n",
    "Python indexes with the y coordinate first, and the x coordinate second!\n",
    "Also, other programs may start with the index at 1,1 (e.g., ds9) rather than 0,0 (Python).\n",
    "In ds9, for example, the value of image[20][100] will be at y=21, x=101."
   ]
  },
  {
   "cell_type": "markdown",
   "metadata": {},
   "source": [
    "Ok, let's show the images with matplotlib! First show the image, then let's adjust the scale"
   ]
  },
  {
   "cell_type": "code",
   "execution_count": null,
   "metadata": {
    "scrolled": true
   },
   "outputs": [],
   "source": [
    "plt.imshow(image)"
   ]
  },
  {
   "cell_type": "markdown",
   "metadata": {},
   "source": [
    "Cannot tell much from that! Let's adjust the color scale (vmin and vmap) and let's use rainbow colors."
   ]
  },
  {
   "cell_type": "code",
   "execution_count": null,
   "metadata": {},
   "outputs": [],
   "source": [
    "plt.imshow(image,vmin=0.1,vmax=3.5,cmap='rainbow')"
   ]
  },
  {
   "cell_type": "markdown",
   "metadata": {},
   "source": [
    "There we go! This is the Large Magellanic Cloud, which is a satellite galaxy of the Milky Way. It is one of the closest galaxies to the Milky Way, located 50 kpc (160,000 light years) away. If you ever are in the southern hemisphere, look for a large-looking cloud toward the south. You can see the Large Magellanic Cloud (and his buddy, the Small Magellanic Cloud) with the naked eye in a clear sky - and it's bigger than the moon! For this particular image, we are looking at the photons that trace the ionized gas in the large Magellanic Cloud. The emission you see is due to high-mass stars (greater than about 8 times the mass of our sun - objects which will eventually go supernova!).\n",
    "\n",
    "You can edit axes using standard matplotlib code. Refer to previous lecture. This may also be a useful link: https://matplotlib.org/api/pyplot_api.html\n",
    "\n",
    "There's still a lot of things we can do to fine-tune. For one, the x and y axis are in pixels, when we are usually interested in arcseconds or degrees. Also, python puts the origin in the top left, when we really want the origin at the bottom left. The code below puts the origin in bottom left and puts the axes in degrees."
   ]
  },
  {
   "cell_type": "code",
   "execution_count": null,
   "metadata": {},
   "outputs": [],
   "source": [
    "n1 = header['NAXIS1']\n",
    "n2 = header['NAXIS2']\n",
    "dx = np.abs(header['CDELT1'])\n",
    "dy = np.abs(header['CDELT2'])\n",
    "\n",
    "plt.imshow(image,vmin=0.1,vmax=3.5, origin='lower', extent=[0., n1*dx, 0., n2*dy],cmap='rainbow')"
   ]
  },
  {
   "cell_type": "markdown",
   "metadata": {},
   "source": [
    "Let's modify the image and re-save it. Let's say we only want part of the image. Let's trim the outer 150 pixels"
   ]
  },
  {
   "cell_type": "code",
   "execution_count": null,
   "metadata": {},
   "outputs": [],
   "source": [
    "image2 = []\n",
    "for i in range(n1):\n",
    "    if i<150 or i>390:\n",
    "        continue\n",
    "    newvector = []\n",
    "    for j in range(n2):\n",
    "        if j<150 or j>390:\n",
    "            continue\n",
    "        else:\n",
    "            newvector.append(image[i][j])\n",
    "    image2.append(newvector)"
   ]
  },
  {
   "cell_type": "code",
   "execution_count": null,
   "metadata": {},
   "outputs": [],
   "source": [
    "len(image2[43])"
   ]
  },
  {
   "cell_type": "code",
   "execution_count": null,
   "metadata": {},
   "outputs": [],
   "source": [
    "#let's also update the header. The length of the axes, which is stored in header info NAXIS1 and NAXIS2, have now been modified!\n",
    "header2=copy.copy(header)\n",
    "header2['NAXIS1']=len(image2)\n",
    "header2['NAXIS2']=len(image2[0]) #any index of image2 should work"
   ]
  },
  {
   "cell_type": "code",
   "execution_count": null,
   "metadata": {},
   "outputs": [],
   "source": [
    "#let's show the image in arcseconds\n",
    "n1_2 = header2['NAXIS1']\n",
    "n2_2 = header2['NAXIS2']\n",
    "plt.imshow(image2,vmin=0.1,vmax=3.5, origin='lower', extent=[0., n1_2*dx*3600, 0., n2_2*dy*3600],cmap='rainbow')"
   ]
  },
  {
   "cell_type": "code",
   "execution_count": null,
   "metadata": {},
   "outputs": [],
   "source": [
    "#write it out; clobber option overwrites image if it already exists\n",
    "fits.writeto(\"lmc.ha.b20_cutout.fits\",image2,header2,overwrite=True) "
   ]
  },
  {
   "cell_type": "markdown",
   "metadata": {},
   "source": [
    "You now should have a cutout of the fits in your directory!\n",
    "\n",
    "\n",
    "Now do it yourself!!! Open 'co_m0.fits' and display it."
   ]
  },
  {
   "cell_type": "markdown",
   "metadata": {},
   "source": [
    "# aplpy\n",
    "If you want to make pretty images or publishable images with python, aplpy is strongly recommended\n",
    "A great tutorial can be found here: https://aplpy.readthedocs.io/en/latest/fitsfigure/quickstart.html\n",
    "While making images as mentioned above is less useful, if you want to create or make modifications to fits files themselves, this tutorial is what you want!"
   ]
  },
  {
   "cell_type": "code",
   "execution_count": null,
   "metadata": {},
   "outputs": [],
   "source": [
    "#install if necessary\n",
    "pip install aplpy"
   ]
  },
  {
   "cell_type": "code",
   "execution_count": null,
   "metadata": {},
   "outputs": [],
   "source": [
    "import aplpy\n",
    "import matplotlib.pyplot as plt\n",
    "%matplotlib inline\n",
    "\n",
    "\n",
    "f1 = aplpy.FITSFigure('lmc.ha.b20_cutout.fits')\n",
    "f1.show_grayscale()"
   ]
  },
  {
   "cell_type": "code",
   "execution_count": null,
   "metadata": {},
   "outputs": [],
   "source": [
    "f1 = aplpy.FITSFigure('lmc.ha.b20.fits')\n",
    "#f1.show_grayscale()\n",
    "#let's make it in color instead of grayscale\n",
    "f1.show_colorscale(cmap='Blues',vmin=0,vmax=2)\n",
    "\n",
    "#add scalebar that shows the size-scale\n",
    "f1.add_scalebar(1,\"1$^{\\circ}$ = 900 pc\",color=\"black\",corner='bottom left')\n",
    "f1.scalebar.set_font_size(18)\n",
    "\n",
    "#let's get rid of extra 0s on axis labels\n",
    "f1.tick_labels.set_xformat('hh:mm')\n",
    "f1.tick_labels.set_yformat('dd')\n",
    "\n",
    "#make tick labels look good\n",
    "f1.ticks.set_color('k')\n",
    "f1.ticks.set_linewidth(1.5)\n",
    "f1.set_axis_labels_size(16)\n",
    "f1.set_tick_labels_size(14)\n",
    "\n",
    "#add a color-bar on right, label it, set its font size and label direction, and set the spacing so it looks good\n",
    "f1.show_colorbar()\n",
    "f1.colorbar.set_axis_label_text(\"Flux\")\n",
    "f1.colorbar.set_axis_label_font(size=20)\n",
    "f1.colorbar.set_axis_label_rotation(-90)\n",
    "f1.colorbar.set_pad(0.1)\n",
    "f1.colorbar.set_axis_label_pad(20)\n",
    "\n",
    "#add a grid; this grid is primarily useful for very large images where the curvature of the sky is significant\n",
    "f1.show_grid()\n",
    "f1.set_grid_color('k')\n",
    "f1.savefig('lmc_fun.png')"
   ]
  },
  {
   "cell_type": "code",
   "execution_count": null,
   "metadata": {},
   "outputs": [],
   "source": []
  }
 ],
 "metadata": {
  "anaconda-cloud": {},
  "kernelspec": {
   "display_name": "Python 3",
   "language": "python",
   "name": "python3"
  },
  "language_info": {
   "codemirror_mode": {
    "name": "ipython",
    "version": 3
   },
   "file_extension": ".py",
   "mimetype": "text/x-python",
   "name": "python",
   "nbconvert_exporter": "python",
   "pygments_lexer": "ipython3",
   "version": "3.7.2"
  }
 },
 "nbformat": 4,
 "nbformat_minor": 1
}
