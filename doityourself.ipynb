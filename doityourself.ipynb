{
 "cells": [
  {
   "cell_type": "code",
   "execution_count": null,
   "metadata": {},
   "outputs": [],
   "source": [
    "from astropy.io import fits\n",
    "import numpy as np\n",
    "%matplotlib inline\n",
    "import matplotlib.pyplot as plt\n",
    "import copy"
   ]
  },
  {
   "cell_type": "code",
   "execution_count": null,
   "metadata": {},
   "outputs": [],
   "source": [
    "fits_filename = \"co_m0.fits\"\n",
    "hdulist = fits.open(fits_filename)\n",
    "hdulist.info()"
   ]
  },
  {
   "cell_type": "code",
   "execution_count": null,
   "metadata": {},
   "outputs": [],
   "source": [
    "#notice the extra dimension of length 0\n",
    "#sometimes fits files aren't so simple, and looking at the info lets you know how to extract the data\n",
    "header = hdulist[0].header\n",
    "image = hdulist[0].data[0]\n",
    "n1 = header['NAXIS1']\n",
    "n2 = header['NAXIS2']\n",
    "dx = np.abs(header['CDELT1'])\n",
    "dy = np.abs(header['CDELT2'])"
   ]
  },
  {
   "cell_type": "code",
   "execution_count": null,
   "metadata": {},
   "outputs": [],
   "source": [
    "plt.imshow(image, origin='lower', extent=[0., n1*dx*60, 0., n2*dy*60],cmap='rainbow') \n",
    "#60 puts the axes in arcminutes rather than degrees"
   ]
  },
  {
   "cell_type": "code",
   "execution_count": null,
   "metadata": {},
   "outputs": [],
   "source": []
  }
 ],
 "metadata": {
  "anaconda-cloud": {},
  "kernelspec": {
   "display_name": "Python 3",
   "language": "python",
   "name": "python3"
  },
  "language_info": {
   "codemirror_mode": {
    "name": "ipython",
    "version": 3
   },
   "file_extension": ".py",
   "mimetype": "text/x-python",
   "name": "python",
   "nbconvert_exporter": "python",
   "pygments_lexer": "ipython3",
   "version": "3.7.2"
  }
 },
 "nbformat": 4,
 "nbformat_minor": 1
}
